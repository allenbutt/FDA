{
 "cells": [
  {
   "cell_type": "markdown",
   "metadata": {},
   "source": [
    "# FDA - Device Report Downloader"
   ]
  },
  {
   "cell_type": "markdown",
   "metadata": {},
   "source": [
    "## Background\n",
    "Medical Device reports are sent to the FDA from across the country. These reports are gathered and reviewed by experts in the FDA, and are also made available to the public. At the moment, there is only one easy way to retrieve MDRs from the FDA, which is to use the MAUDE database (https://www.accessdata.fda.gov/scripts/cdrh/cfdocs/cfmaude/search.cfm). However, this database suffers from a poor interface, few search features, and a limitation of only 500 reports retrievable at a time. Therefore, the MAUDE database is only suitable for analyzing small numbers of reports, and a new way of extracting and using device report data is needed.\n",
    "\n",
    "The FDA has a second repository of medical device reports, kept as raw data in JSON format on another site (https://open.fda.gov/data/downloads/). Each file exists inside its own ZIP folder and has the same name as all others, making it a nightmare to manually download, unzip, rename, and merge the JSONs needed to make up the base dataset. Furthermore, the links to the downloads are hidden behind Javascript and buttons.\n",
    "\n",
    "This code uses the Selenium webdriver to get around these challenges. Just enter the date range needed, the product codes, and your download folder--then run the notebook. The end result will be csv file with the requested data."
   ]
  },
  {
   "cell_type": "markdown",
   "metadata": {},
   "source": [
    "## User Input"
   ]
  },
  {
   "cell_type": "code",
   "execution_count": 1,
   "metadata": {},
   "outputs": [],
   "source": [
    "start_year = 2020\n",
    "end_year = 2020\n",
    "pathf = 'C:/Users/Allen/Documents/FDA'\n",
    "pcode = [\"DYE\",\"LWR\",\"MIE\",\"MWH\",\"NPX\",\"OHA\",\"PAL\",\"PAP\"]\n",
    "trim = \"No\"\n",
    "\n",
    "#Import os package to determine if the user's entered filepath is valid\n",
    "import os.path\n",
    "from os import path\n",
    "\n",
    "#Tkinter is used to build the input menu\n",
    "from tkinter import *\n",
    "\n",
    "#Create main window that everything else will fit into\n",
    "root = Tk()\n",
    "root.title(\"FDA Input\")\n",
    "\n",
    "#Create year entry fields\n",
    "dialoglabelyearstart = Label(root, text = \"Beginning Year\")\n",
    "dialoglabelyearstart.grid(row=0, column = 0, columnspan = 1, sticky = W)\n",
    "dialogentryyearstart = Entry(root, width = 10)\n",
    "dialogentryyearstart.grid(row = 0, column = 1, sticky = W)\n",
    "dialoglabelyearend = Label(root, text = \"Ending Year\")\n",
    "dialoglabelyearend.grid(row=1, column = 0, columnspan = 1, sticky = W)\n",
    "dialogentryyearend = Entry(root, width = 10)\n",
    "dialogentryyearend.grid(row = 1, column = 1, sticky = W)\n",
    "\n",
    "#Automatically select the first entry field\n",
    "dialogentryyearstart.focus_force()\n",
    "\n",
    "#Create blank space as a separator\n",
    "dialoglabelspace = Label(root, text = \" \")\n",
    "dialoglabelspace.grid(row=2, column = 0, columnspan = 1)\n",
    "\n",
    "#Create product code entry field\n",
    "dialoglabelproductcodes = Label(root, text = \"Product Codes\")\n",
    "dialoglabelproductcodes.grid(row=3, column = 0, columnspan = 1, sticky = W)\n",
    "dialogentryproductcodes = Entry(root, width = 40)\n",
    "dialogentryproductcodes.grid(row = 3, column = 1, sticky = W)\n",
    "dialoglabelproductcodes2 = Label(root, text = \"Use formatting:\")\n",
    "dialoglabelproductcodes2.grid(row= 4, column = 0, columnspan = 1, sticky = W)\n",
    "dialoglabelproductcodes2 = Label(root, text = \"     abc, def, ghi\")\n",
    "dialoglabelproductcodes2.grid(row= 4, column = 1, columnspan = 2, sticky = W)\n",
    "dialoglabelproductcodes2 = Label(root, text = \"For all codes, use:\")\n",
    "dialoglabelproductcodes2.grid(row= 5, column = 0, columnspan = 1, sticky = W)\n",
    "dialoglabelproductcodes2 = Label(root, text = \"     all\")\n",
    "dialoglabelproductcodes2.grid(row= 5, column = 1, columnspan = 2, sticky = W)\n",
    "\n",
    "dialoglabelspace2 = Label(root, text = \" \")\n",
    "dialoglabelspace2.grid(row=6, column = 0, columnspan = 1)\n",
    "\n",
    "#Create filepath code entry field\n",
    "dialoglabelfilepath = Label(root, text = \"Filepath\")\n",
    "dialoglabelfilepath.grid(row=7, column = 0, columnspan = 1, sticky = W)\n",
    "dialogentryfilepath = Entry(root, width = 40)\n",
    "dialogentryfilepath.grid(row = 7, column = 1, sticky = W)\n",
    "dialoglabelfilepath2 = Label(root, text = \"Ex:    C:/Users/Myname/Documents/FDA\")\n",
    "dialoglabelfilepath2.grid(row= 8, column = 0, columnspan = 3, sticky = W)\n",
    "\n",
    "dialoglabelspace3 = Label(root, text = \" \")\n",
    "dialoglabelspace3.grid(row=9, column = 0, columnspan = 1)\n",
    "\n",
    "#Create trim entry field\n",
    "dialoglabeltrim = Label(root, text = \"Trim?\")\n",
    "dialoglabeltrim.grid(row=10, column = 0, columnspan = 1, sticky = W)\n",
    "dialogentrytrim = Entry(root, width = 5)\n",
    "dialogentrytrim.grid(row = 10, column = 1, sticky = W)\n",
    "dialoglabeltrim2 = Label(root, text = \"Yes or No, Trimming performs basic text formatting\")\n",
    "dialoglabeltrim2.grid(row= 11, column = 0, columnspan = 3, sticky = W)\n",
    "\n",
    "#Create error field\n",
    "dialoglabelerror = Label(root, text = \"\", fg = \"red\")\n",
    "dialoglabelerror.grid(row=13, column = 1, columnspan = 1, sticky = W)\n",
    "\n",
    "#Create what happens when you click on the button\n",
    "def buttonClick():\n",
    "    global start_year\n",
    "    global end_year\n",
    "    global pcode\n",
    "    global pathf\n",
    "    global trim\n",
    "    start_year = dialogentryyearstart.get()\n",
    "    end_year = dialogentryyearend.get()\n",
    "    pcode = dialogentryproductcodes.get()\n",
    "    pathf = dialogentryfilepath.get()\n",
    "    trim = dialogentrytrim.get()\n",
    "    \n",
    "    if start_year == \"\":\n",
    "        dialoglabelerror.config(text = \"Beginning Year must be entered\")\n",
    "        return\n",
    "    try:\n",
    "        int(start_year)\n",
    "    except ValueError:\n",
    "        dialoglabelerror.config(text = \"Beginning Year is not a year\")\n",
    "        return\n",
    "    start_year = int(start_year)\n",
    "    if start_year < 2000 | start_year > 2100:\n",
    "        dialoglabelerror.config(text = \"Beginning Year is out of bounds\")\n",
    "        return\n",
    "    \n",
    "    if end_year == \"\":\n",
    "        dialoglabelerror.config(text = \"Ending Year must be entered\")\n",
    "        return\n",
    "    try:\n",
    "        int(end_year)\n",
    "    except ValueError:\n",
    "        dialoglabelerror.config(text = \"Ending Year is not a year\")\n",
    "        return\n",
    "    end_year = int(end_year)\n",
    "    if end_year < 2000:\n",
    "        dialoglabelerror.config(text = \"Ending Year is out of bounds\")\n",
    "        return\n",
    "    \n",
    "    if pcode == \"\":\n",
    "        dialoglabelerror.config(text = \"Product Code must be entered\")\n",
    "        return\n",
    "    #Update the Product Code field to match what is needed for filtering later\n",
    "    pcode = pcode.upper()\n",
    "    pcode = \"\".join(pcode.split())\n",
    "    pcode = pcode.upper()\n",
    "    pcode = pcode.split(\",\")\n",
    "    pcodeerrors = 0\n",
    "    for code in pcode: pcodeerrors = pcodeerrors + max(len(code)-3,0)\n",
    "    if pcodeerrors > 0:\n",
    "        dialoglabelerror.config(text = \"Erroneous Product Code\")\n",
    "        return        \n",
    "    \n",
    "    if pathf == \"\":\n",
    "        dialoglabelerror.config(text = \"Filepath must be entered\")\n",
    "        return\n",
    "    if path.isdir(pathf) == False:\n",
    "        dialoglabelerror.config(text = \"Improper Filepath\")\n",
    "        return\n",
    "    \n",
    "    if trim == \"\":\n",
    "        dialoglabelerror.config(text = \"Trim preference must be entered\")\n",
    "        return\n",
    "    trim = trim.lower()\n",
    "    if trim != \"yes\" and trim != \"no\":\n",
    "        dialoglabelerror.config(text = \"Trim must be either yes or no\")\n",
    "        return\n",
    "\n",
    "    root.destroy()\n",
    "\n",
    "#Create button\n",
    "myButton = Button(root, text = \"Enter\", padx = 20, pady = 3, command = buttonClick)\n",
    "#Attach button\n",
    "myButton.grid(row=12, column = 0, columnspan = 2)\n",
    "\n",
    "#Create the mainloop to display the above dialog\n",
    "root.mainloop()"
   ]
  },
  {
   "cell_type": "markdown",
   "metadata": {},
   "source": [
    "## Installing specialized packages"
   ]
  },
  {
   "cell_type": "code",
   "execution_count": 2,
   "metadata": {},
   "outputs": [
    {
     "name": "stdout",
     "output_type": "stream",
     "text": [
      "Requirement already satisfied: webdriver-manager in c:\\users\\allen\\anaconda3\\lib\\site-packages (3.7.0)\n",
      "Requirement already satisfied: requests in c:\\users\\allen\\anaconda3\\lib\\site-packages (from webdriver-manager) (2.27.1)\n",
      "Requirement already satisfied: python-dotenv in c:\\users\\allen\\anaconda3\\lib\\site-packages (from webdriver-manager) (0.20.0)\n",
      "Requirement already satisfied: certifi>=2017.4.17 in c:\\users\\allen\\anaconda3\\lib\\site-packages (from requests->webdriver-manager) (2021.10.8)\n",
      "Requirement already satisfied: charset-normalizer~=2.0.0 in c:\\users\\allen\\anaconda3\\lib\\site-packages (from requests->webdriver-manager) (2.0.4)\n",
      "Requirement already satisfied: urllib3<1.27,>=1.21.1 in c:\\users\\allen\\anaconda3\\lib\\site-packages (from requests->webdriver-manager) (1.26.9)\n",
      "Requirement already satisfied: idna<4,>=2.5 in c:\\users\\allen\\anaconda3\\lib\\site-packages (from requests->webdriver-manager) (3.3)\n",
      "Note: you may need to restart the kernel to use updated packages.\n"
     ]
    }
   ],
   "source": [
    "pip install webdriver-manager"
   ]
  },
  {
   "cell_type": "code",
   "execution_count": 3,
   "metadata": {
    "scrolled": false
   },
   "outputs": [
    {
     "name": "stdout",
     "output_type": "stream",
     "text": [
      "Requirement already satisfied: selenium in c:\\users\\allen\\anaconda3\\lib\\site-packages (4.2.0)\n",
      "Requirement already satisfied: trio~=0.17 in c:\\users\\allen\\anaconda3\\lib\\site-packages (from selenium) (0.20.0)\n",
      "Requirement already satisfied: urllib3[secure,socks]~=1.26 in c:\\users\\allen\\anaconda3\\lib\\site-packages (from selenium) (1.26.9)\n",
      "Requirement already satisfied: trio-websocket~=0.9 in c:\\users\\allen\\anaconda3\\lib\\site-packages (from selenium) (0.9.2)\n",
      "Requirement already satisfied: idna in c:\\users\\allen\\anaconda3\\lib\\site-packages (from trio~=0.17->selenium) (3.3)\n",
      "Requirement already satisfied: outcome in c:\\users\\allen\\anaconda3\\lib\\site-packages (from trio~=0.17->selenium) (1.1.0)\n",
      "Requirement already satisfied: attrs>=19.2.0 in c:\\users\\allen\\anaconda3\\lib\\site-packages (from trio~=0.17->selenium) (21.4.0)\n",
      "Requirement already satisfied: sortedcontainers in c:\\users\\allen\\anaconda3\\lib\\site-packages (from trio~=0.17->selenium) (2.4.0)\n",
      "Requirement already satisfied: async-generator>=1.9 in c:\\users\\allen\\anaconda3\\lib\\site-packages (from trio~=0.17->selenium) (1.10)\n",
      "Requirement already satisfied: sniffio in c:\\users\\allen\\anaconda3\\lib\\site-packages (from trio~=0.17->selenium) (1.2.0)\n",
      "Requirement already satisfied: cffi>=1.14 in c:\\users\\allen\\anaconda3\\lib\\site-packages (from trio~=0.17->selenium) (1.15.0)\n",
      "Requirement already satisfied: wsproto>=0.14 in c:\\users\\allen\\anaconda3\\lib\\site-packages (from trio-websocket~=0.9->selenium) (1.1.0)\n",
      "Requirement already satisfied: certifi in c:\\users\\allen\\anaconda3\\lib\\site-packages (from urllib3[secure,socks]~=1.26->selenium) (2021.10.8)\n",
      "Requirement already satisfied: cryptography>=1.3.4 in c:\\users\\allen\\anaconda3\\lib\\site-packages (from urllib3[secure,socks]~=1.26->selenium) (3.4.8)\n",
      "Requirement already satisfied: pyOpenSSL>=0.14 in c:\\users\\allen\\anaconda3\\lib\\site-packages (from urllib3[secure,socks]~=1.26->selenium) (21.0.0)\n",
      "Requirement already satisfied: PySocks!=1.5.7,<2.0,>=1.5.6 in c:\\users\\allen\\anaconda3\\lib\\site-packages (from urllib3[secure,socks]~=1.26->selenium) (1.7.1)\n",
      "Requirement already satisfied: pycparser in c:\\users\\allen\\anaconda3\\lib\\site-packages (from cffi>=1.14->trio~=0.17->selenium) (2.21)\n",
      "Requirement already satisfied: six>=1.5.2 in c:\\users\\allen\\anaconda3\\lib\\site-packages (from pyOpenSSL>=0.14->urllib3[secure,socks]~=1.26->selenium) (1.16.0)\n",
      "Requirement already satisfied: h11<1,>=0.9.0 in c:\\users\\allen\\anaconda3\\lib\\site-packages (from wsproto>=0.14->trio-websocket~=0.9->selenium) (0.13.0)\n",
      "Note: you may need to restart the kernel to use updated packages.\n"
     ]
    }
   ],
   "source": [
    "pip install selenium"
   ]
  },
  {
   "cell_type": "code",
   "execution_count": 4,
   "metadata": {},
   "outputs": [],
   "source": [
    "#Importing of useful packages\n",
    "import pandas as pd\n",
    "import re\n",
    "import numpy as np\n",
    "import json\n",
    "import datetime\n",
    "from bs4 import BeautifulSoup as bs\n",
    "import requests\n",
    "import re\n",
    "import urllib\n",
    "import time\n",
    "import os\n",
    "import string\n",
    "import nltk\n",
    "import requests, zipfile\n",
    "from io import BytesIO\n",
    "\n",
    "URL = \"https://open.fda.gov/data/downloads/\""
   ]
  },
  {
   "cell_type": "markdown",
   "metadata": {},
   "source": [
    "## Web Scraping"
   ]
  },
  {
   "cell_type": "code",
   "execution_count": 5,
   "metadata": {},
   "outputs": [
    {
     "name": "stdout",
     "output_type": "stream",
     "text": [
      "\n"
     ]
    },
    {
     "name": "stderr",
     "output_type": "stream",
     "text": [
      "[WDM] - ====== WebDriver manager ======\n",
      "[WDM] - Current google-chrome version is 103.0.5060\n",
      "[WDM] - Get LATEST chromedriver version for 103.0.5060 google-chrome\n",
      "[WDM] - There is no [win32] chromedriver for browser 103.0.5060 in cache\n",
      "[WDM] - About to download new driver from https://chromedriver.storage.googleapis.com/103.0.5060.53/chromedriver_win32.zip\n",
      "[WDM] - Driver has been saved in cache [C:\\Users\\Allen\\.wdm\\drivers\\chromedriver\\win32\\103.0.5060.53]\n"
     ]
    }
   ],
   "source": [
    "#The FDA website does not load the downloadable files unless you scroll to that area of the page first\n",
    "#Web-Scraping involves using the Selenium webdriver to open the site with Chrome, navigate to the\n",
    "    #needed area, and hit the correct buttons at the correct time\n",
    "\n",
    "from selenium.webdriver.support import expected_conditions as EC\n",
    "from selenium.webdriver.support.ui import WebDriverWait\n",
    "from webdriver_manager.chrome import ChromeDriverManager\n",
    "from selenium.webdriver.chrome.service import Service\n",
    "from selenium.webdriver.common.by import By\n",
    "import selenium.common.exceptions\n",
    "from selenium import webdriver\n",
    "import time\n",
    "\n",
    "from selenium.webdriver.support.wait import WebDriverWait\n",
    "\n",
    "options = webdriver.ChromeOptions()\n",
    "\n",
    "driver = webdriver.Chrome(service=Service(ChromeDriverManager().install()))\n",
    "driver.get(\"https://www.google.com\")\n",
    "\n",
    "driver.get(URL)\n",
    "driver.maximize_window()\n",
    "\n",
    "time.sleep(1)\n",
    "\n",
    "#Get past the light screen\n",
    "button1 = driver.find_element(By.CLASS_NAME, \"button.bg-primary.clr-white\")\n",
    "button1.click()\n",
    "\n",
    "time.sleep(1)\n",
    " \n",
    "    #Scroll to the button for medical device events\n",
    "element_link=WebDriverWait(driver, 10).until(EC.presence_of_element_located(\n",
    "   (By.XPATH, '//*[@id=\"Medical Device Event\"]')))\n",
    "\n",
    "driver.execute_script(\"arguments[0].scrollIntoView(true)\", element_link)\n",
    "\n",
    "time.sleep(1)\n",
    "\n",
    "#Click the medical device event button\n",
    "button2 = driver.find_element(By.XPATH, '//*[@id=\"Medical Device Event\"]/section/button')\n",
    "button2.click()\n",
    "\n",
    "time.sleep(1)\n",
    "\n",
    "#Retrieve the html code now that it displays the links we need\n",
    "html = driver.execute_script(\"return document.getElementsByTagName('html')[0].innerHTML\")\n",
    "#print (html)\n",
    "\n",
    "driver.close()"
   ]
  },
  {
   "cell_type": "markdown",
   "metadata": {},
   "source": [
    "## Downloading Data"
   ]
  },
  {
   "cell_type": "code",
   "execution_count": 6,
   "metadata": {},
   "outputs": [],
   "source": [
    "#Snip HTML to just the portion in question\n",
    "pattern = '1991(.*?)<li id=\"Medical Device PMA\">'\n",
    "substring = re.search(pattern, html).group(1)"
   ]
  },
  {
   "cell_type": "code",
   "execution_count": 7,
   "metadata": {},
   "outputs": [],
   "source": [
    "#Itemize links into array\n",
    "import lxml.html\n",
    "\n",
    "url_list = lxml.html.fromstring(substring)\n",
    "url_list = url_list.xpath('//a/@href')"
   ]
  },
  {
   "cell_type": "code",
   "execution_count": 8,
   "metadata": {},
   "outputs": [],
   "source": [
    "#Determine which links to follow, based on start and end year\n",
    "year_list = list(range(start_year, end_year+1))\n",
    "\n",
    "index_to_download = []\n",
    "\n",
    "for meh in year_list:\n",
    "    for bleh in range(0, len(url_list)):\n",
    "        if str(meh) in url_list[bleh]:\n",
    "            index_to_download.append(url_list.index(url_list[bleh]))\n",
    "\n",
    "index_count = len(index_to_download)"
   ]
  },
  {
   "cell_type": "code",
   "execution_count": 9,
   "metadata": {
    "scrolled": true
   },
   "outputs": [
    {
     "name": "stdout",
     "output_type": "stream",
     "text": [
      "Download 1 of 4 started \n",
      "Download 1 completed \n",
      "File 1 extracted\n",
      "Creating Dataframe with JSON 1\n",
      "Dataframe Created\n",
      "Download 2 of 4 started \n",
      "Download 2 completed \n",
      "File 2 extracted\n",
      "Appending Dataframe with JSON 2\n",
      "JSON 2 appended\n",
      "Download 3 of 4 started \n",
      "Download 3 completed \n",
      "File 3 extracted\n",
      "Appending Dataframe with JSON 3\n",
      "JSON 3 appended\n",
      "Download 4 of 4 started \n",
      "Download 4 completed \n",
      "File 4 extracted\n",
      "Appending Dataframe with JSON 4\n",
      "JSON 4 appended\n",
      "Dataframe ready\n"
     ]
    }
   ],
   "source": [
    "#Follow links in array to download/process ZIPs\n",
    "\n",
    "pathfull = pathf + \"/FDAdata.json\"\n",
    "import requests, zipfile\n",
    "from io import BytesIO\n",
    "\n",
    "#Run loop, opening JSONs\n",
    "loopnumber = 0\n",
    "datamain = \"\"\n",
    "for snuh in index_to_download:\n",
    "    print('Download ' + (str(loopnumber+1)) + \" of \" + (str(index_count)) + \" started \")\n",
    "    url = url_list[snuh]\n",
    "    import requests, zipfile\n",
    "    req = requests.get(url)\n",
    "    print('Download ' + (str(loopnumber+1))+ \" completed \")\n",
    "    zipfile = zipfile.ZipFile(BytesIO(req.content))\n",
    "    filename = \"FDAdata.json\"\n",
    "    for i, f in enumerate(zipfile.filelist):\n",
    "        f.filename = filename.format(i)\n",
    "        zipfile.extract(f)\n",
    "    print('File ' + (str(loopnumber+1))+ ' extracted')\n",
    "    data = json.load(open(pathfull))\n",
    "    data = data[\"results\"]\n",
    "    datamain = data\n",
    "    if loopnumber == 0:\n",
    "        print('Creating Dataframe with JSON ' + (str(loopnumber+1)))\n",
    "        dfmain = pd.json_normalize(data,\n",
    "                  record_path = \"device\",\n",
    "                  meta = [\"report_number\",\"report_source_code\",\"date_received\",\"event_type\",\"type_of_report\",\"mdr_text\"],\n",
    "                  record_prefix = \"_\",\n",
    "                  errors = \"ignore\")\n",
    "        if pcode[0] != \"All\":\n",
    "            dfmain = dfmain[dfmain._device_report_product_code.isin(pcode)]\n",
    "        print('Dataframe Created')\n",
    "    else:\n",
    "        print('Appending Dataframe with JSON ' + (str(loopnumber+1)))\n",
    "        dfnew = pd.json_normalize(data,\n",
    "                  record_path = \"device\",\n",
    "                  meta = [\"report_number\",\"report_source_code\",\"date_received\",\"event_type\",\"type_of_report\",\"mdr_text\"],\n",
    "                  record_prefix = \"_\",\n",
    "                  errors = \"ignore\")\n",
    "        if pcode[0] != \"All\":\n",
    "            dfnew = dfnew[dfnew._device_report_product_code.isin(pcode)]\n",
    "        dfmain = pd.concat([dfmain, dfnew])\n",
    "        print('JSON ' + (str(loopnumber+1)) + ' appended')\n",
    "        \n",
    "    os.remove(pathf + \"/\" + filename)\n",
    "    loopnumber = loopnumber + 1\n",
    "print(\"Dataframe ready\")"
   ]
  },
  {
   "cell_type": "markdown",
   "metadata": {},
   "source": [
    "## Trimming Data/Export"
   ]
  },
  {
   "cell_type": "code",
   "execution_count": 10,
   "metadata": {},
   "outputs": [],
   "source": [
    "if trim == \"Yes\":\n",
    "    \n",
    "    #Keep only relevant columns\n",
    "    dfmain = dfmain[[\"_device_report_product_code\",\"_brand_name\",\"_generic_name\",\"_manufacturer_d_name\",\"type_of_report\",\"report_number\",\"report_source_code\",\n",
    "                     \"date_received\",\"event_type\",\"mdr_text\"]]\n",
    "\n",
    "    #Rename columns\n",
    "    dfmain.columns = [\"product_code\",\"brand_name\",\"generic_name\",\"manufacturer_name\",\"type_of_report\",\"report_number\",\n",
    "                            \"report_source_code\",\"date_received\",\"event_type\",\"mdr_text\"]\n",
    "\n",
    "    #Update date column to date format\n",
    "    dfmain[\"date_received\"] = pd.to_datetime(dfmain[\"date_received\"])\n",
    "    \n",
    "    #Remove brackets from type of report column\n",
    "    dfmain['type_of_report'] = dfmain['type_of_report'].str.join(', ')\n",
    "    \n",
    "    #Update MDR Text to only show the text narrative items--also lowercase the text\n",
    "    newmdr = []\n",
    "    for crag in dfmain[\"mdr_text\"]:\n",
    "        newmdr.append(''.join(re.findall(\"'text': .+?}\",str(crag))).translate(str.maketrans('', '', string.punctuation)).replace(\"text\",\" - \")[4:])\n",
    "    \n",
    "    #Lowercase MDR Text\n",
    "    dfmain[\"mdr_text\"] = [x.lower() for x in newmdr]\n",
    "    \n",
    "#Export to CSV\n",
    "dfmain.to_csv(pathf + \"/fda_device_reports.csv\", index = False)"
   ]
  }
 ],
 "metadata": {
  "kernelspec": {
   "display_name": "Python 3 (ipykernel)",
   "language": "python",
   "name": "python3"
  },
  "language_info": {
   "codemirror_mode": {
    "name": "ipython",
    "version": 3
   },
   "file_extension": ".py",
   "mimetype": "text/x-python",
   "name": "python",
   "nbconvert_exporter": "python",
   "pygments_lexer": "ipython3",
   "version": "3.9.12"
  }
 },
 "nbformat": 4,
 "nbformat_minor": 4
}
